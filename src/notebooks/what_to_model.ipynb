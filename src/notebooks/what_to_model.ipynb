{
 "cells": [
  {
   "metadata": {},
   "cell_type": "markdown",
   "source": [
    "One of the biggest questions of this project is how to represent the data and what to model?\n",
    "- There are 2 main ways i am currently thinking of representing the data\n",
    "- 1. The grid as images (2D) which lend themselves to convolutional nets \n",
    "- 2. The grid as a graph which lends itself to graph nets. \n",
    "2. is a generalization of 1. as a graph is a generalization of an image (2D grid) so representation 2. can be used to represent 1. but not vice versa.\n",
    "- 3. The grid as sequence of tokens which lends itself to transformers."
   ],
   "id": "276e03d0908a2ce2"
  },
  {
   "cell_type": "code",
   "execution_count": null,
   "id": "initial_id",
   "metadata": {
    "collapsed": true
   },
   "outputs": [],
   "source": [
    ""
   ]
  }
 ],
 "metadata": {
  "kernelspec": {
   "display_name": "Python 3",
   "language": "python",
   "name": "python3"
  },
  "language_info": {
   "codemirror_mode": {
    "name": "ipython",
    "version": 2
   },
   "file_extension": ".py",
   "mimetype": "text/x-python",
   "name": "python",
   "nbconvert_exporter": "python",
   "pygments_lexer": "ipython2",
   "version": "2.7.6"
  }
 },
 "nbformat": 4,
 "nbformat_minor": 5
}
